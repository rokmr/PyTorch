{
  "cells": [
    {
      "cell_type": "markdown",
      "metadata": {
        "id": "view-in-github",
        "colab_type": "text"
      },
      "source": [
        "<a href=\"https://colab.research.google.com/github/rokmr/PyTorch/blob/main/Fine_Tune.ipynb\" target=\"_parent\"><img src=\"https://colab.research.google.com/assets/colab-badge.svg\" alt=\"Open In Colab\"/></a>"
      ]
    },
    {
      "cell_type": "markdown",
      "metadata": {
        "id": "9CGmbHcHWydU"
      },
      "source": [
        "Fine tuning: Replace the ImageNet trained classifier in ResNet-18 with a new classifier for the given dataset. Fine-tune only the classification layer using the training data given (and additional data if you want) and report the performance on test data"
      ]
    },
    {
      "cell_type": "markdown",
      "metadata": {
        "id": "YGCbPBGXleDi"
      },
      "source": [
        "# Importing required Library"
      ]
    },
    {
      "cell_type": "code",
      "execution_count": 86,
      "metadata": {
        "id": "mKjhGTOdXJ4J"
      },
      "outputs": [],
      "source": [
        "%matplotlib inline"
      ]
    },
    {
      "cell_type": "code",
      "execution_count": 87,
      "metadata": {
        "id": "Eq-g9oi8XIiE"
      },
      "outputs": [],
      "source": [
        "import torch\n",
        "import torchvision\n",
        "from torch import nn\n",
        "from torchvision import transforms, datasets, models\n",
        "from torch.utils.data import DataLoader\n",
        "from torch.optim import lr_scheduler\n",
        "from tqdm.auto import tqdm\n",
        "\n",
        "import numpy as np\n",
        "from matplotlib import pyplot as plt\n",
        "import os                                                  \n",
        "from typing import Dict, List, Tuple                        # Used for specifying output type"
      ]
    },
    {
      "cell_type": "markdown",
      "metadata": {
        "id": "VsMXat2OllrP"
      },
      "source": [
        "# Device Agnostic and Data prepration "
      ]
    },
    {
      "cell_type": "code",
      "execution_count": 88,
      "metadata": {
        "id": "B2wMXX57XTFG"
      },
      "outputs": [],
      "source": [
        "device = torch.device(\"cuda:0\" if torch.cuda.is_available() else \"cpu\")"
      ]
    },
    {
      "cell_type": "code",
      "execution_count": 89,
      "metadata": {
        "colab": {
          "base_uri": "https://localhost:8080/"
        },
        "id": "WVkkSTfOXZ2G",
        "outputId": "81723009-42d1-468d-ee01-db24fd1651ff"
      },
      "outputs": [
        {
          "output_type": "stream",
          "name": "stdout",
          "text": [
            "Drive already mounted at /content/drive; to attempt to forcibly remount, call drive.mount(\"/content/drive\", force_remount=True).\n"
          ]
        }
      ],
      "source": [
        "from google.colab import drive\n",
        "drive.mount('/content/drive')"
      ]
    },
    {
      "cell_type": "code",
      "execution_count": 90,
      "metadata": {
        "id": "q03xBCWAXdLy"
      },
      "outputs": [],
      "source": [
        "from pathlib import Path\n",
        "data_dir = Path('/content/drive/Shareddrives/Python Basics/AIP_Assignment/A1/classification_dataset')\n",
        "\n",
        "train_dir = data_dir / 'train'\n",
        "test_dir = data_dir / 'test'"
      ]
    },
    {
      "cell_type": "code",
      "execution_count": 91,
      "metadata": {
        "id": "GtGeXUxxXWji"
      },
      "outputs": [],
      "source": [
        "data_transforms = {\n",
        "    # Data transforamtio for training data\n",
        "\n",
        "    'train': transforms.Compose([\n",
        "        transforms.RandomResizedCrop(224),\n",
        "        transforms.RandomHorizontalFlip(),\n",
        "        transforms.ToTensor(),\n",
        "        transforms.Normalize([0.485, 0.456, 0.406], [0.229, 0.224, 0.225])\n",
        "    ]),\n",
        "\n",
        "    # Data transforamtio for testing data\n",
        "\n",
        "    'test': transforms.Compose([\n",
        "        transforms.Resize(226),\n",
        "        transforms.CenterCrop(224),\n",
        "        transforms.ToTensor(),\n",
        "        transforms.Normalize([0.485, 0.456, 0.406], [0.229, 0.224, 0.225])\n",
        "    ]),\n",
        "}"
      ]
    },
    {
      "cell_type": "code",
      "execution_count": 92,
      "metadata": {
        "id": "kMqXl2HGRmem"
      },
      "outputs": [],
      "source": [
        "NUM_WORKERS = os.cpu_count()                     # if there is more than 1 number of cpu is available \n",
        "\n",
        "def create_dataloaders(\n",
        "    train_dir: str, \n",
        "    test_dir: str, \n",
        "    transform: transforms.Compose, \n",
        "    batch_size: int, \n",
        "    num_workers: int=NUM_WORKERS\n",
        "):\n",
        "\n",
        "  # Use ImageFolder to create dataset(s)\n",
        "  train_data = datasets.ImageFolder(train_dir, transform=data_transforms[\"train\"])\n",
        "  test_data = datasets.ImageFolder(test_dir, transform=data_transforms[\"test\"])\n",
        "\n",
        "  # Get class names\n",
        "  class_names = train_data.classes\n",
        "\n",
        "  # Turn images into data loaders\n",
        "  train_dataloader = DataLoader(\n",
        "      train_data,\n",
        "      batch_size=batch_size,\n",
        "      shuffle=True,                                 # Suffling the data for training mode \n",
        "      num_workers=num_workers,                      \n",
        "      pin_memory=True,                              # Enables fast data transfer to CUDA-enabled GPUs in multi- processing\n",
        "  )\n",
        "  test_dataloader = DataLoader(\n",
        "      test_data,\n",
        "      batch_size=batch_size,\n",
        "      shuffle=False,                                 # no Suffling the data for testing mode\n",
        "      num_workers=num_workers,\n",
        "      pin_memory=True,\n",
        "  )\n",
        "\n",
        "  return train_dataloader, test_dataloader, class_names, len(train_data), len(test_data)\n"
      ]
    },
    {
      "cell_type": "code",
      "execution_count": 93,
      "metadata": {
        "id": "AJ5vkD6LWp2-"
      },
      "outputs": [],
      "source": [
        "train_dataloader, test_dataloader, class_names, train_data_num, test_data_num = create_dataloaders(train_dir= train_dir, \n",
        "                                                                                                      test_dir= test_dir, \n",
        "                                                                                                      transform= data_transforms, \n",
        "                                                                                                      batch_size= 32, \n",
        "                                                                                                      num_workers= NUM_WORKERS)"
      ]
    },
    {
      "cell_type": "code",
      "execution_count": 94,
      "metadata": {
        "colab": {
          "base_uri": "https://localhost:8080/"
        },
        "id": "_lpNxWtiYFcp",
        "outputId": "cc1e985f-4d0a-47a9-9391-24dfa1a3ec0e"
      },
      "outputs": [
        {
          "output_type": "stream",
          "name": "stdout",
          "text": [
            "['bear', 'butterfly', 'camel', 'chimp', 'duck', 'elephant']\n",
            "Number of train data: 532\n",
            "Number of test data: 120\n"
          ]
        }
      ],
      "source": [
        "print(class_names)\n",
        "print(f\"Number of train data: {train_data_num}\")\n",
        "print(f\"Number of test data: {test_data_num}\")"
      ]
    },
    {
      "cell_type": "markdown",
      "metadata": {
        "id": "mEaXlAoYnFiS"
      },
      "source": [
        "# Model and Changing its classifier"
      ]
    },
    {
      "cell_type": "code",
      "execution_count": 95,
      "metadata": {
        "colab": {
          "base_uri": "https://localhost:8080/"
        },
        "id": "dMQxOXUHnZOA",
        "outputId": "3a36dbdd-aa20-4123-f705-56462622bfba"
      },
      "outputs": [
        {
          "output_type": "stream",
          "name": "stderr",
          "text": [
            "/usr/local/lib/python3.8/dist-packages/torchvision/models/_utils.py:208: UserWarning: The parameter 'pretrained' is deprecated since 0.13 and may be removed in the future, please use 'weights' instead.\n",
            "  warnings.warn(\n",
            "/usr/local/lib/python3.8/dist-packages/torchvision/models/_utils.py:223: UserWarning: Arguments other than a weight enum or `None` for 'weights' are deprecated since 0.13 and may be removed in the future. The current behavior is equivalent to passing `weights=ResNet18_Weights.IMAGENET1K_V1`. You can also use `weights=ResNet18_Weights.DEFAULT` to get the most up-to-date weights.\n",
            "  warnings.warn(msg)\n"
          ]
        },
        {
          "output_type": "stream",
          "name": "stdout",
          "text": [
            "Linear(in_features=512, out_features=1000, bias=True)\n"
          ]
        }
      ],
      "source": [
        "model_ft = models.resnet18(pretrained=True).to(device)\n",
        "\n",
        "print(model_ft.fc)"
      ]
    },
    {
      "cell_type": "code",
      "execution_count": 96,
      "metadata": {
        "id": "IUmqvN43qWx_"
      },
      "outputs": [],
      "source": [
        "# !pip install -q torchinfo\n",
        "# from torchinfo import summary\n",
        "# summary(model=model_ft,\n",
        "#         input_size=(1, 3, 224, 224), # example of [batch_size, color_channels, height, width]\n",
        "#         col_names=[\"input_size\", \"output_size\", \"num_params\", \"trainable\"],\n",
        "#         col_width=20,\n",
        "#         row_settings=[\"var_names\"])"
      ]
    },
    {
      "cell_type": "code",
      "execution_count": 97,
      "metadata": {
        "colab": {
          "base_uri": "https://localhost:8080/"
        },
        "id": "JJua01B4rnfJ",
        "outputId": "d009a4e4-6bb6-4b78-87be-78aeed85df83"
      },
      "outputs": [
        {
          "output_type": "execute_result",
          "data": {
            "text/plain": [
              "Linear(in_features=512, out_features=6, bias=True)"
            ]
          },
          "metadata": {},
          "execution_count": 97
        }
      ],
      "source": [
        "# Changing fc layer\n",
        "in_features = model_ft.fc.in_features\n",
        "model_ft.fc = nn.Linear(in_features=in_features, out_features=len(class_names)).to(device) # len(class_names) will provide number of input\n",
        "for params in model_ft.parameters():\n",
        "  params.requires_grad_(False)\n",
        "     \n",
        "for params in model_ft.fc.parameters():\n",
        "  params.requires_grad_(True)\n",
        "model_ft.fc "
      ]
    },
    {
      "cell_type": "code",
      "source": [
        "# summary(model=model_ft,\n",
        "#         input_size=(1, 3, 224, 224), # example of [batch_size, color_channels, height, width]\n",
        "#         col_names=[\"input_size\", \"output_size\", \"num_params\", \"trainable\"],\n",
        "#         col_width=20,\n",
        "#         row_settings=[\"var_names\"])"
      ],
      "metadata": {
        "id": "RsJbTSknm_pq"
      },
      "execution_count": 98,
      "outputs": []
    },
    {
      "cell_type": "markdown",
      "metadata": {
        "id": "MRyMV0kxtxpq"
      },
      "source": [
        "# Training and Testing of modal"
      ]
    },
    {
      "cell_type": "markdown",
      "metadata": {
        "id": "ctN1XR251bDM"
      },
      "source": [
        "## Setting up function for Training\n",
        "\n",
        "> Indented block\n",
        "\n"
      ]
    },
    {
      "cell_type": "code",
      "execution_count": 99,
      "metadata": {
        "id": "1WKNc-nNufhx"
      },
      "outputs": [],
      "source": [
        "# Setting-up train-step function\n",
        "def train_step(model: torch.nn.Module,\n",
        "               data_loader: torch.utils.data.DataLoader,\n",
        "               loss_fn: torch.nn.Module,\n",
        "               optimizer: torch.optim.Optimizer,\n",
        "              #  scheduler,\n",
        "               accuracy_fn,\n",
        "               device: torch.device = device):\n",
        "  \"\"\"Performs a training with model trying to learn on data_loader.\"\"\"\n",
        "  train_loss, train_acc = 0, 0\n",
        "\n",
        "  model.train()                                        # Put model into training mode\n",
        "\n",
        "  for batch, (X, y) in enumerate(data_loader):         # Add a loop to loop through the training batches\n",
        "    X, y = X.to(device), y.to(device)\n",
        "\n",
        "    y_pred = model(X)                                  # getting Prediction\n",
        "\n",
        "    loss = loss_fn(y_pred, y)                          # Loss Calculation\n",
        "    train_loss += loss                                 # accumulate train loss\n",
        "\n",
        "    train_acc += accuracy_fn(y_pred.argmax(dim=1), y)  # go from logits -> prediction labels\n",
        "    \n",
        "    optimizer.zero_grad()\n",
        "    loss.backward()\n",
        "    optimizer.step()\n",
        "    # scheduler.step()\n",
        "  # Divide total train loss and acc by length of train dataloader\n",
        "  train_loss /= len(data_loader)\n",
        "  train_acc /= len(data_loader)\n",
        "  # print(f\"Train loss: {train_loss:.5f} | Train acc: {train_acc*100:.2f}%\")\n",
        "  return train_loss, train_acc\n",
        "\n",
        "\n",
        "# Setting-up tesp-step function\n",
        "def test_step(model: torch.nn.Module,\n",
        "              data_loader: torch.utils.data.DataLoader, \n",
        "              loss_fn: torch.nn.Module,\n",
        "              accuracy_fn,\n",
        "              device: torch.device = device):\n",
        "  \"\"\"Performs a testing loop step on model going over data_loader.\"\"\"\n",
        "  test_loss, test_acc = 0, 0\n",
        "  \n",
        "  model.eval()                     # Put the model in eval mode (indicates the model that nothing new is to be learnt)\n",
        "\n",
        "  with torch.inference_mode():     # Turn on inference mode context manager (locally disable grad)\n",
        "    for X, y in data_loader:\n",
        "      X, y = X.to(device), y.to(device)\n",
        "\n",
        "      test_pred = model(X)         # logits\n",
        "\n",
        "      test_loss += loss_fn(test_pred, y)\n",
        "      test_acc += accuracy_fn(test_pred.argmax(dim=1), y)     # go from logits -> prediction labels \n",
        "\n",
        "    # Adjust metrics and print out\n",
        "    test_loss /= len(data_loader)\n",
        "    test_acc /= len(data_loader)\n",
        "    # print(f\"Test loss: {test_loss:.5f} | Test acc: {test_acc*100:.2f}%\\n\")\n",
        "    return test_loss, test_acc"
      ]
    },
    {
      "cell_type": "code",
      "execution_count": 100,
      "metadata": {
        "id": "ULmdBG280Odk"
      },
      "outputs": [],
      "source": [
        "# Setting-up training loop \n",
        "def train(model: torch.nn.Module, \n",
        "          train_dataloader: torch.utils.data.DataLoader, \n",
        "          test_dataloader: torch.utils.data.DataLoader, \n",
        "          optimizer: torch.optim.Optimizer,\n",
        "          # scheduler,\n",
        "          loss_fn: torch.nn.Module,\n",
        "          epochs: int,\n",
        "          device: torch.device) -> Dict[str, List]:\n",
        "\n",
        "    # Create empty results dictionary\n",
        "    results = {\"train_loss\": [],\n",
        "               \"train_acc\": [],\n",
        "               \"test_loss\": [],\n",
        "               \"test_acc\": []\n",
        "    }\n",
        "    \n",
        "    # Make sure model on target device\n",
        "    model.to(device)\n",
        "\n",
        "    # Loop through training and testing steps for a number of epochs\n",
        "    for epoch in tqdm(range(epochs)):\n",
        "        train_loss, train_acc = train_step(model=model,\n",
        "                                          data_loader=train_dataloader,\n",
        "                                          loss_fn=loss_fn,\n",
        "                                          optimizer=optimizer,\n",
        "                                          # scheduler=scheduler,\n",
        "                                          accuracy_fn=accuracy_fn,\n",
        "                                          device=device)\n",
        "        \n",
        "        test_loss, test_acc = test_step(model=model,\n",
        "                                        data_loader=test_dataloader,\n",
        "                                        loss_fn=loss_fn,\n",
        "                                        accuracy_fn=accuracy_fn,\n",
        "                                        device=device)\n",
        "\n",
        "        # Print out what's happening\n",
        "        print(\n",
        "          f\"Epoch: {epoch+1} | \"\n",
        "          f\"train_loss: {train_loss:.4f} | \"\n",
        "          f\"train_acc: {train_acc*100:.2f} | \"\n",
        "          f\"test_loss: {test_loss:.4f} | \"\n",
        "          f\"test_acc: {test_acc*100:.2f}\"\n",
        "        )\n",
        "\n",
        "        # Update results dictionary which will be used for plotting\n",
        "        results[\"train_loss\"].append(train_loss.detach().cpu().numpy())\n",
        "        results[\"train_acc\"].append(train_acc.detach().cpu().numpy())\n",
        "        results[\"test_loss\"].append(test_loss.detach().cpu().numpy())\n",
        "        results[\"test_acc\"].append(test_acc.detach().cpu().numpy())\n",
        "\n",
        "    # Return the filled results at the end of the epochs\n",
        "    return results"
      ]
    },
    {
      "cell_type": "markdown",
      "metadata": {
        "id": "0TI3HX5K2vR1"
      },
      "source": [
        "## Training"
      ]
    },
    {
      "cell_type": "code",
      "execution_count": 101,
      "metadata": {
        "id": "A7pdZSve2C-f"
      },
      "outputs": [],
      "source": [
        "# Hyper Parametr\n",
        "EPOCHS = 20\n",
        "LR = 0.001\n",
        "\n",
        "optimizer = torch.optim.Adam(model_ft.fc.parameters(), lr=LR)\n",
        "\n",
        "# Decay LR by a factor of 0.1 every 7 epochs\n",
        "# exp_lr_scheduler = lr_scheduler.StepLR(optimizer, step_size=10, gamma=0.1) \n",
        "\n",
        "# Seting-up loss and optimizer\n",
        "loss_fn = nn.CrossEntropyLoss()"
      ]
    },
    {
      "cell_type": "code",
      "execution_count": 102,
      "metadata": {
        "colab": {
          "base_uri": "https://localhost:8080/"
        },
        "id": "Mj1Ep3-w3uDG",
        "outputId": "c390f069-085e-4c96-de60-d5fe075a3c54"
      },
      "outputs": [
        {
          "output_type": "stream",
          "name": "stdout",
          "text": [
            "Looking in indexes: https://pypi.org/simple, https://us-python.pkg.dev/colab-wheels/public/simple/\n",
            "Requirement already satisfied: torchmetrics in /usr/local/lib/python3.8/dist-packages (0.11.1)\n",
            "Requirement already satisfied: typing-extensions in /usr/local/lib/python3.8/dist-packages (from torchmetrics) (4.4.0)\n",
            "Requirement already satisfied: numpy>=1.17.2 in /usr/local/lib/python3.8/dist-packages (from torchmetrics) (1.21.6)\n",
            "Requirement already satisfied: torch>=1.8.1 in /usr/local/lib/python3.8/dist-packages (from torchmetrics) (1.13.1+cu116)\n",
            "Requirement already satisfied: packaging in /usr/local/lib/python3.8/dist-packages (from torchmetrics) (23.0)\n"
          ]
        }
      ],
      "source": [
        "!pip install torchmetrics\n",
        "from torchmetrics import Accuracy, ConfusionMatrix\n",
        "\n",
        "#Parameters Measure\n",
        "accuracy_fn = Accuracy(task=\"multiclass\", num_classes=len(class_names)).to(device)\n",
        "confmat = ConfusionMatrix(task=\"multiclass\", num_classes=len(class_names)).to(device)"
      ]
    },
    {
      "cell_type": "code",
      "execution_count": 103,
      "metadata": {
        "colab": {
          "base_uri": "https://localhost:8080/",
          "height": 396,
          "referenced_widgets": [
            "7ce002ad662a4c1ea373719f458c12ad",
            "7be10bfd3cdf47e4be8a86f496c6cafe",
            "949df24c43d34d5fb055378c90d4cdf8",
            "b8f997fec5f34705948fcdee86276652",
            "b68a092b59f943daa62bb133497dee89",
            "56d7fb1e7a7c4afb80d9d38928545448",
            "1fedaa4528f34f6ebace1934b860f93c",
            "2d27a3f414d8421e8564ba70febb7576",
            "1e902a5c222f4be9902692a031d83ee8",
            "4cd49304b5b34e4cb076546615c32180",
            "d24a39c5330e48fc9f8c9a8385db74c0"
          ]
        },
        "id": "RbLTlR1A1Y6b",
        "outputId": "7a3fdd97-01ad-41c2-9410-b363bf4f5604"
      },
      "outputs": [
        {
          "output_type": "display_data",
          "data": {
            "text/plain": [
              "  0%|          | 0/20 [00:00<?, ?it/s]"
            ],
            "application/vnd.jupyter.widget-view+json": {
              "version_major": 2,
              "version_minor": 0,
              "model_id": "7ce002ad662a4c1ea373719f458c12ad"
            }
          },
          "metadata": {}
        },
        {
          "output_type": "stream",
          "name": "stdout",
          "text": [
            "Epoch: 1 | train_loss: 1.5848 | train_acc: 37.21 | test_loss: 1.0130 | test_acc: 77.86\n",
            "Epoch: 2 | train_loss: 1.0079 | train_acc: 72.43 | test_loss: 0.6611 | test_acc: 85.94\n",
            "Epoch: 3 | train_loss: 0.7191 | train_acc: 83.79 | test_loss: 0.4096 | test_acc: 96.09\n",
            "Epoch: 4 | train_loss: 0.5653 | train_acc: 86.76 | test_loss: 0.3277 | test_acc: 95.83\n",
            "Epoch: 5 | train_loss: 0.4626 | train_acc: 89.30 | test_loss: 0.2673 | test_acc: 96.88\n",
            "Epoch: 6 | train_loss: 0.4066 | train_acc: 91.03 | test_loss: 0.2420 | test_acc: 96.88\n",
            "Epoch: 7 | train_loss: 0.3876 | train_acc: 90.00 | test_loss: 0.2043 | test_acc: 96.09\n",
            "Epoch: 8 | train_loss: 0.3437 | train_acc: 92.17 | test_loss: 0.2032 | test_acc: 96.88\n",
            "Epoch: 9 | train_loss: 0.3481 | train_acc: 89.96 | test_loss: 0.1819 | test_acc: 96.88\n",
            "Epoch: 10 | train_loss: 0.3136 | train_acc: 91.07 | test_loss: 0.1629 | test_acc: 96.88\n",
            "Epoch: 11 | train_loss: 0.3254 | train_acc: 89.34 | test_loss: 0.1590 | test_acc: 96.09\n",
            "Epoch: 12 | train_loss: 0.3496 | train_acc: 88.09 | test_loss: 0.1489 | test_acc: 96.09\n",
            "Epoch: 13 | train_loss: 0.2859 | train_acc: 91.25 | test_loss: 0.1523 | test_acc: 97.66\n",
            "Epoch: 14 | train_loss: 0.2840 | train_acc: 91.65 | test_loss: 0.1427 | test_acc: 96.88\n",
            "Epoch: 15 | train_loss: 0.2686 | train_acc: 92.13 | test_loss: 0.1310 | test_acc: 96.88\n",
            "Epoch: 16 | train_loss: 0.2614 | train_acc: 91.62 | test_loss: 0.1305 | test_acc: 96.88\n",
            "Epoch: 17 | train_loss: 0.2434 | train_acc: 94.04 | test_loss: 0.1392 | test_acc: 96.88\n",
            "Epoch: 18 | train_loss: 0.2578 | train_acc: 92.43 | test_loss: 0.1194 | test_acc: 97.66\n",
            "Epoch: 19 | train_loss: 0.2669 | train_acc: 92.10 | test_loss: 0.1382 | test_acc: 96.09\n",
            "Epoch: 20 | train_loss: 0.2154 | train_acc: 93.27 | test_loss: 0.1185 | test_acc: 97.66\n"
          ]
        }
      ],
      "source": [
        "# Getting result of training \n",
        "result = train(model=model_ft,\n",
        "               train_dataloader=train_dataloader,\n",
        "               test_dataloader=test_dataloader,\n",
        "               optimizer=optimizer,\n",
        "              #  scheduler=exp_lr_scheduler,\n",
        "               loss_fn=loss_fn,\n",
        "               epochs=EPOCHS,\n",
        "               device=device)"
      ]
    },
    {
      "cell_type": "markdown",
      "source": [
        "## Ploting the output"
      ],
      "metadata": {
        "id": "qJ94gvUmrBJY"
      }
    },
    {
      "cell_type": "code",
      "execution_count": 104,
      "metadata": {
        "id": "4BDgW9rK9Qul"
      },
      "outputs": [],
      "source": [
        "def plot_loss_curves(results):\n",
        "    loss = results[\"train_loss\"]\n",
        "    test_loss = results[\"test_loss\"]\n",
        "\n",
        "    accuracy = results[\"train_acc\"]\n",
        "    test_accuracy = results[\"test_acc\"]\n",
        "\n",
        "    epochs = range(len(results[\"train_loss\"]))\n",
        "\n",
        "    plt.figure(figsize=(15, 7))\n",
        "\n",
        "    # Plot loss\n",
        "    plt.subplot(1, 2, 1)\n",
        "    plt.plot(epochs, loss, label=\"train_loss\")\n",
        "    plt.plot(epochs, test_loss, label=\"test_loss\")\n",
        "    plt.title(\"Loss\")\n",
        "    plt.xlabel(\"Epochs\")\n",
        "    plt.legend()\n",
        "\n",
        "    # Plot accuracy\n",
        "    plt.subplot(1, 2, 2)\n",
        "    plt.plot(epochs, accuracy, label=\"train_accuracy\")\n",
        "    plt.plot(epochs, test_accuracy, label=\"test_accuracy\")\n",
        "    plt.title(\"Accuracy\")\n",
        "    plt.xlabel(\"Epochs\")\n",
        "    plt.legend()"
      ]
    },
    {
      "cell_type": "code",
      "source": [
        "plot_loss_curves(result)"
      ],
      "metadata": {
        "colab": {
          "base_uri": "https://localhost:8080/",
          "height": 458
        },
        "id": "lC3YNe2niApl",
        "outputId": "863113b8-b024-4da1-d5f2-ac09f8facf00"
      },
      "execution_count": 105,
      "outputs": [
        {
          "output_type": "display_data",
          "data": {
            "text/plain": [
              "<Figure size 1080x504 with 2 Axes>"
            ],
            "image/png": "[encoded data removed]"
          },
          "metadata": {
            "needs_background": "light"
          }
        }
      ]
    },
    {
      "cell_type": "markdown",
      "source": [
        "# Measures"
      ],
      "metadata": {
        "id": "vMBnGx30rPTv"
      }
    },
    {
      "cell_type": "code",
      "source": [
        "model_ft.eval()                     # Put the model in eval mode (indicates the model that nothing new is to be learnt)\n",
        "test_data = datasets.ImageFolder(test_dir, transform=data_transforms[\"test\"])\n",
        "test_dataloader_metric = DataLoader(test_data,\n",
        "      batch_size=120,\n",
        "      shuffle=False)                                 # no Suffling the data for testing mode)\n",
        "with torch.inference_mode():     # Turn on inference mode context manager (locally disable grad)\n",
        "  for X, y in test_dataloader_metric:\n",
        "      X, y = X.to(device), y.to(device)\n",
        "      test_pred = model_ft(X)\n",
        "y_pred =test_pred.argmax(dim=1)    "
      ],
      "metadata": {
        "id": "FFG7ZzdTsY6-"
      },
      "execution_count": 106,
      "outputs": []
    },
    {
      "cell_type": "code",
      "source": [
        "# Confusion Matrix\n",
        "conf_mat = confmat(y_pred, y)\n",
        "acc_perct = accuracy_fn(y_pred, y) * 100\n",
        "print(f\"Accuracy percentage : {acc_perct:.3f}\")\n",
        "print(\"----------------------------------\")\n",
        "print(\"Confusion Matrix\")\n",
        "print(conf_mat)"
      ],
      "metadata": {
        "colab": {
          "base_uri": "https://localhost:8080/"
        },
        "id": "LPAU-UpSxAZK",
        "outputId": "faafc174-5005-45b3-b4e2-852d8158ab4a"
      },
      "execution_count": 108,
      "outputs": [
        {
          "output_type": "stream",
          "name": "stdout",
          "text": [
            "Accuracy percentage : 97.500\n",
            "----------------------------------\n",
            "Confusion Matrix\n",
            "tensor([[18,  0,  0,  2,  0,  0],\n",
            "        [ 0, 20,  0,  0,  0,  0],\n",
            "        [ 0,  0, 20,  0,  0,  0],\n",
            "        [ 0,  0,  0, 20,  0,  0],\n",
            "        [ 0,  0,  0,  0, 19,  1],\n",
            "        [ 0,  0,  0,  0,  0, 20]], device='cuda:0')\n"
          ]
        }
      ]
    }
  ],
  "metadata": {
    "accelerator": "GPU",
    "colab": {
      "provenance": [],
      "toc_visible": true,
      "include_colab_link": true
    },
    "gpuClass": "standard",
    "kernelspec": {
      "display_name": "Python 3",
      "name": "python3"
    },
    "language_info": {
      "name": "python"
    },
    "widgets": {
      "application/vnd.jupyter.widget-state+json": {
        "7ce002ad662a4c1ea373719f458c12ad": {
          "model_module": "@jupyter-widgets/controls",
          "model_name": "HBoxModel",
          "model_module_version": "1.5.0",
          "state": {
            "_dom_classes": [],
            "_model_module": "@jupyter-widgets/controls",
            "_model_module_version": "1.5.0",
            "_model_name": "HBoxModel",
            "_view_count": null,
            "_view_module": "@jupyter-widgets/controls",
            "_view_module_version": "1.5.0",
            "_view_name": "HBoxView",
            "box_style": "",
            "children": [
              "IPY_MODEL_7be10bfd3cdf47e4be8a86f496c6cafe",
              "IPY_MODEL_949df24c43d34d5fb055378c90d4cdf8",
              "IPY_MODEL_b8f997fec5f34705948fcdee86276652"
            ],
            "layout": "IPY_MODEL_b68a092b59f943daa62bb133497dee89"
          }
        },
        "7be10bfd3cdf47e4be8a86f496c6cafe": {
          "model_module": "@jupyter-widgets/controls",
          "model_name": "HTMLModel",
          "model_module_version": "1.5.0",
          "state": {
            "_dom_classes": [],
            "_model_module": "@jupyter-widgets/controls",
            "_model_module_version": "1.5.0",
            "_model_name": "HTMLModel",
            "_view_count": null,
            "_view_module": "@jupyter-widgets/controls",
            "_view_module_version": "1.5.0",
            "_view_name": "HTMLView",
            "description": "",
            "description_tooltip": null,
            "layout": "IPY_MODEL_56d7fb1e7a7c4afb80d9d38928545448",
            "placeholder": "​",
            "style": "IPY_MODEL_1fedaa4528f34f6ebace1934b860f93c",
            "value": "100%"
          }
        },
        "949df24c43d34d5fb055378c90d4cdf8": {
          "model_module": "@jupyter-widgets/controls",
          "model_name": "FloatProgressModel",
          "model_module_version": "1.5.0",
          "state": {
            "_dom_classes": [],
            "_model_module": "@jupyter-widgets/controls",
            "_model_module_version": "1.5.0",
            "_model_name": "FloatProgressModel",
            "_view_count": null,
            "_view_module": "@jupyter-widgets/controls",
            "_view_module_version": "1.5.0",
            "_view_name": "ProgressView",
            "bar_style": "success",
            "description": "",
            "description_tooltip": null,
            "layout": "IPY_MODEL_2d27a3f414d8421e8564ba70febb7576",
            "max": 20,
            "min": 0,
            "orientation": "horizontal",
            "style": "IPY_MODEL_1e902a5c222f4be9902692a031d83ee8",
            "value": 20
          }
        },
        "b8f997fec5f34705948fcdee86276652": {
          "model_module": "@jupyter-widgets/controls",
          "model_name": "HTMLModel",
          "model_module_version": "1.5.0",
          "state": {
            "_dom_classes": [],
            "_model_module": "@jupyter-widgets/controls",
            "_model_module_version": "1.5.0",
            "_model_name": "HTMLModel",
            "_view_count": null,
            "_view_module": "@jupyter-widgets/controls",
            "_view_module_version": "1.5.0",
            "_view_name": "HTMLView",
            "description": "",
            "description_tooltip": null,
            "layout": "IPY_MODEL_4cd49304b5b34e4cb076546615c32180",
            "placeholder": "​",
            "style": "IPY_MODEL_d24a39c5330e48fc9f8c9a8385db74c0",
            "value": " 20/20 [02:02&lt;00:00,  5.73s/it]"
          }
        },
        "b68a092b59f943daa62bb133497dee89": {
          "model_module": "@jupyter-widgets/base",
          "model_name": "LayoutModel",
          "model_module_version": "1.2.0",
          "state": {
            "_model_module": "@jupyter-widgets/base",
            "_model_module_version": "1.2.0",
            "_model_name": "LayoutModel",
            "_view_count": null,
            "_view_module": "@jupyter-widgets/base",
            "_view_module_version": "1.2.0",
            "_view_name": "LayoutView",
            "align_content": null,
            "align_items": null,
            "align_self": null,
            "border": null,
            "bottom": null,
            "display": null,
            "flex": null,
            "flex_flow": null,
            "grid_area": null,
            "grid_auto_columns": null,
            "grid_auto_flow": null,
            "grid_auto_rows": null,
            "grid_column": null,
            "grid_gap": null,
            "grid_row": null,
            "grid_template_areas": null,
            "grid_template_columns": null,
            "grid_template_rows": null,
            "height": null,
            "justify_content": null,
            "justify_items": null,
            "left": null,
            "margin": null,
            "max_height": null,
            "max_width": null,
            "min_height": null,
            "min_width": null,
            "object_fit": null,
            "object_position": null,
            "order": null,
            "overflow": null,
            "overflow_x": null,
            "overflow_y": null,
            "padding": null,
            "right": null,
            "top": null,
            "visibility": null,
            "width": null
          }
        },
        "56d7fb1e7a7c4afb80d9d38928545448": {
          "model_module": "@jupyter-widgets/base",
          "model_name": "LayoutModel",
          "model_module_version": "1.2.0",
          "state": {
            "_model_module": "@jupyter-widgets/base",
            "_model_module_version": "1.2.0",
            "_model_name": "LayoutModel",
            "_view_count": null,
            "_view_module": "@jupyter-widgets/base",
            "_view_module_version": "1.2.0",
            "_view_name": "LayoutView",
            "align_content": null,
            "align_items": null,
            "align_self": null,
            "border": null,
            "bottom": null,
            "display": null,
            "flex": null,
            "flex_flow": null,
            "grid_area": null,
            "grid_auto_columns": null,
            "grid_auto_flow": null,
            "grid_auto_rows": null,
            "grid_column": null,
            "grid_gap": null,
            "grid_row": null,
            "grid_template_areas": null,
            "grid_template_columns": null,
            "grid_template_rows": null,
            "height": null,
            "justify_content": null,
            "justify_items": null,
            "left": null,
            "margin": null,
            "max_height": null,
            "max_width": null,
            "min_height": null,
            "min_width": null,
            "object_fit": null,
            "object_position": null,
            "order": null,
            "overflow": null,
            "overflow_x": null,
            "overflow_y": null,
            "padding": null,
            "right": null,
            "top": null,
            "visibility": null,
            "width": null
          }
        },
        "1fedaa4528f34f6ebace1934b860f93c": {
          "model_module": "@jupyter-widgets/controls",
          "model_name": "DescriptionStyleModel",
          "model_module_version": "1.5.0",
          "state": {
            "_model_module": "@jupyter-widgets/controls",
            "_model_module_version": "1.5.0",
            "_model_name": "DescriptionStyleModel",
            "_view_count": null,
            "_view_module": "@jupyter-widgets/base",
            "_view_module_version": "1.2.0",
            "_view_name": "StyleView",
            "description_width": ""
          }
        },
        "2d27a3f414d8421e8564ba70febb7576": {
          "model_module": "@jupyter-widgets/base",
          "model_name": "LayoutModel",
          "model_module_version": "1.2.0",
          "state": {
            "_model_module": "@jupyter-widgets/base",
            "_model_module_version": "1.2.0",
            "_model_name": "LayoutModel",
            "_view_count": null,
            "_view_module": "@jupyter-widgets/base",
            "_view_module_version": "1.2.0",
            "_view_name": "LayoutView",
            "align_content": null,
            "align_items": null,
            "align_self": null,
            "border": null,
            "bottom": null,
            "display": null,
            "flex": null,
            "flex_flow": null,
            "grid_area": null,
            "grid_auto_columns": null,
            "grid_auto_flow": null,
            "grid_auto_rows": null,
            "grid_column": null,
            "grid_gap": null,
            "grid_row": null,
            "grid_template_areas": null,
            "grid_template_columns": null,
            "grid_template_rows": null,
            "height": null,
            "justify_content": null,
            "justify_items": null,
            "left": null,
            "margin": null,
            "max_height": null,
            "max_width": null,
            "min_height": null,
            "min_width": null,
            "object_fit": null,
            "object_position": null,
            "order": null,
            "overflow": null,
            "overflow_x": null,
            "overflow_y": null,
            "padding": null,
            "right": null,
            "top": null,
            "visibility": null,
            "width": null
          }
        },
        "1e902a5c222f4be9902692a031d83ee8": {
          "model_module": "@jupyter-widgets/controls",
          "model_name": "ProgressStyleModel",
          "model_module_version": "1.5.0",
          "state": {
            "_model_module": "@jupyter-widgets/controls",
            "_model_module_version": "1.5.0",
            "_model_name": "ProgressStyleModel",
            "_view_count": null,
            "_view_module": "@jupyter-widgets/base",
            "_view_module_version": "1.2.0",
            "_view_name": "StyleView",
            "bar_color": null,
            "description_width": ""
          }
        },
        "4cd49304b5b34e4cb076546615c32180": {
          "model_module": "@jupyter-widgets/base",
          "model_name": "LayoutModel",
          "model_module_version": "1.2.0",
          "state": {
            "_model_module": "@jupyter-widgets/base",
            "_model_module_version": "1.2.0",
            "_model_name": "LayoutModel",
            "_view_count": null,
            "_view_module": "@jupyter-widgets/base",
            "_view_module_version": "1.2.0",
            "_view_name": "LayoutView",
            "align_content": null,
            "align_items": null,
            "align_self": null,
            "border": null,
            "bottom": null,
            "display": null,
            "flex": null,
            "flex_flow": null,
            "grid_area": null,
            "grid_auto_columns": null,
            "grid_auto_flow": null,
            "grid_auto_rows": null,
            "grid_column": null,
            "grid_gap": null,
            "grid_row": null,
            "grid_template_areas": null,
            "grid_template_columns": null,
            "grid_template_rows": null,
            "height": null,
            "justify_content": null,
            "justify_items": null,
            "left": null,
            "margin": null,
            "max_height": null,
            "max_width": null,
            "min_height": null,
            "min_width": null,
            "object_fit": null,
            "object_position": null,
            "order": null,
            "overflow": null,
            "overflow_x": null,
            "overflow_y": null,
            "padding": null,
            "right": null,
            "top": null,
            "visibility": null,
            "width": null
          }
        },
        "d24a39c5330e48fc9f8c9a8385db74c0": {
          "model_module": "@jupyter-widgets/controls",
          "model_name": "DescriptionStyleModel",
          "model_module_version": "1.5.0",
          "state": {
            "_model_module": "@jupyter-widgets/controls",
            "_model_module_version": "1.5.0",
            "_model_name": "DescriptionStyleModel",
            "_view_count": null,
            "_view_module": "@jupyter-widgets/base",
            "_view_module_version": "1.2.0",
            "_view_name": "StyleView",
            "description_width": ""
          }
        }
      }
    }
  },
  "nbformat": 4,
  "nbformat_minor": 0
}